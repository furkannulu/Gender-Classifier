{
 "cells": [
  {
   "cell_type": "markdown",
   "metadata": {},
   "source": [
    "#### Libraries"
   ]
  },
  {
   "cell_type": "code",
   "execution_count": 3,
   "metadata": {},
   "outputs": [],
   "source": [
    "import tensorflow as tf\n",
    "\n",
    "import matplotlib.pyplot as plt\n",
    "import seaborn as sns\n",
    "import numpy as np\n",
    "import pandas as pd\n",
    "import cv2\n",
    "import os\n",
    "from sklearn.metrics import accuracy_score\n"
   ]
  },
  {
   "cell_type": "markdown",
   "metadata": {},
   "source": [
    "----"
   ]
  },
  {
   "cell_type": "markdown",
   "metadata": {},
   "source": [
    "#### Funcitons For Model"
   ]
  },
  {
   "cell_type": "code",
   "execution_count": 33,
   "metadata": {},
   "outputs": [],
   "source": [
    "def fit_model(cnn_model, train_data, train_labels , test_data, test_labels, es, checkpoint_cb):\n",
    "    history = cnn_model.fit(train_data, \n",
    "        train_labels, \n",
    "        epochs=10,\n",
    "        validation_data=(test_data, test_labels),\n",
    "        callbacks=[es, checkpoint_cb])\n",
    "    return history\n",
    "\n",
    "def model_evaluation(model, test_data, test_labels):\n",
    "    test_loss, test_acc = model.evaluate(test_data, test_labels,verbose=2)\n",
    "    print(f'Test Accuracy Score {test_acc}:\\n Test Loss {test_loss}')\n",
    "    return test_loss, test_acc\n",
    "\n",
    "def save_model(cnn_model):\n",
    "    save_dir = \"saved_model/my_model\"\n",
    "    os.makedirs(save_dir, exist_ok=True)\n",
    "    cnn_model.save(\"saved_model/my_model/model.keras\")\n",
    "\n",
    "def load_cnn_model():\n",
    "    model = tf.keras.models.load_model('saved_model/my_model/model.keras')\n",
    "    return model\n",
    "\n",
    "def load_image(image_path):\n",
    "    image = cv2.imread(image_path)\n",
    "    image = cv2.resize(image, (100, 100))  # İstenen boyuta yeniden boyutlandır\n",
    "    image = image.astype(np.float32)  # Veri türünü float32'ye çevir\n",
    "    image = image / 255.0  # Normalizasyon (0 ile 1 arasına ölçekleme)\n",
    "    return image"
   ]
  },
  {
   "cell_type": "markdown",
   "metadata": {},
   "source": [
    "-----"
   ]
  },
  {
   "cell_type": "markdown",
   "metadata": {},
   "source": [
    "#### Functions for Prediction"
   ]
  },
  {
   "cell_type": "code",
   "execution_count": 21,
   "metadata": {},
   "outputs": [],
   "source": [
    "def make_single_prediction(model, image):\n",
    "    \n",
    "    predictions = model.predict(np.expand_dims(image, axis=0))\n",
    "    predicted_class_index = np.argmax(predictions, axis=1)\n",
    "    prediction = [\"Male\" if predicted_class_index > 0.55 else \"Female\"]\n",
    "\n",
    "    print(f\"Models Prediction is {prediction}\")\n",
    "    \n",
    "    return predicted_class_index\n",
    "\n",
    "def make_prediction_with_time(model, test_data, test_labels):\n",
    "    import time\n",
    "    start_time = time.time()\n",
    "    predictions = model.predict(test_data)\n",
    "    end_time = time.time()\n",
    "    inference_time = end_time - start_time\n",
    "\n",
    "    rounded_predictions = np.argmax(predictions, axis=1)\n",
    "    true_labels = test_labels\n",
    "    accuracy = accuracy_score(true_labels, rounded_predictions)\n",
    "    print(f\"Prediction Accuracy: {accuracy}\")\n",
    "\n",
    "    print(f\"Prediction Time is: {inference_time} seconds\")\n",
    "\n",
    "    return predictions, inference_time"
   ]
  },
  {
   "cell_type": "markdown",
   "metadata": {},
   "source": [
    "---"
   ]
  },
  {
   "cell_type": "markdown",
   "metadata": {},
   "source": [
    "#### Funcitons For Getting Images"
   ]
  },
  {
   "cell_type": "code",
   "execution_count": 6,
   "metadata": {},
   "outputs": [],
   "source": [
    "def scale_images(images):\n",
    "    scaled_images = images / 255.0\n",
    "    return scaled_images\n",
    "\n",
    "def get_dataset_for_train_test(path):\n",
    "    images = []\n",
    "    labels = []\n",
    "    class_folders = os.listdir(path)\n",
    "    print(class_folders)\n",
    "    for class_folder in class_folders:\n",
    "        class_path = os.path.join(path, class_folder)\n",
    "        image_files = os.listdir(class_path)\n",
    "\n",
    "        for img_file in image_files:\n",
    "\n",
    "            image_path = os.path.join(class_path, img_file)\n",
    "            label = 1 if class_folder == \"Male\" else 0\n",
    "            image = cv2.imread(image_path)\n",
    "            image = cv2.resize(image, (100,100)) \n",
    "\n",
    "            images.append(image)\n",
    "            labels.append(label)\n",
    "\n",
    "    images = np.array(images)\n",
    "    labels = np.array(labels)\n",
    "\n",
    "    images = images.astype(np.float32)\n",
    "\n",
    "    # Ölçekleme işlemi\n",
    "    scaled_images = scale_images(images)\n",
    "\n",
    "    return scaled_images, labels"
   ]
  },
  {
   "cell_type": "markdown",
   "metadata": {},
   "source": [
    "----"
   ]
  },
  {
   "cell_type": "markdown",
   "metadata": {},
   "source": [
    "#### Funcitons for Visualization"
   ]
  },
  {
   "cell_type": "code",
   "execution_count": 7,
   "metadata": {},
   "outputs": [],
   "source": [
    "def plot_labels(train_labels, test_labels):\n",
    "    ##### Plotting by gender\n",
    "    plt.figure(figsize=(10, 4))\n",
    "\n",
    "    plt.subplot(1, 2, 1)\n",
    "    male_counter = sum(1 for label in train_labels if label == 1)\n",
    "    female_counter = sum(1 for label in train_labels if label == 0)\n",
    "    sns.barplot(x=[\"Male\", \"Female\"], y=[male_counter, female_counter])\n",
    "    plt.title(\"Male vs Female Counts in Train Data\")\n",
    "    plt.legend(labels=[f\"Male (Count: {male_counter})\", f\"Female (Count: {female_counter})\"])\n",
    "    plt.xlabel(\"Gender\")\n",
    "    plt.ylabel(\"Count\")\n",
    "\n",
    "    ##### Plotting by gender\n",
    "    plt.subplot(1, 2, 2)\n",
    "    male_counter = sum(1 for label in test_labels if label == 1)\n",
    "    female_counter = sum(1 for label in test_labels if label == 0)\n",
    "    sns.barplot(x=[\"Male\", \"Female\"], y=[male_counter, female_counter])\n",
    "    plt.title(\"Male vs Female Counts in Test Data\")\n",
    "    plt.legend(labels=[f\"Male (Count: {male_counter})\", f\"Female (Count: {female_counter})\"])\n",
    "    plt.xlabel(\"Gender\")\n",
    "    plt.ylabel(\"Count\")\n",
    "\n",
    "    plt.tight_layout()\n",
    "    plt.show()\n",
    "\n",
    "def visualize_history(history):\n",
    "    plt.figure(figsize=(10, 4))\n",
    "\n",
    "    plt.subplot(1, 2, 1)\n",
    "    plt.plot(history.history['sparse_categorical_accuracy'], label='accuracy')\n",
    "    plt.plot(history.history['val_sparse_categorical_accuracy'], label = 'val_accuracy')\n",
    "    plt.xlabel('Epoch')\n",
    "    plt.ylabel('Accuracy')\n",
    "    plt.ylim([0.5, 1])\n",
    "    plt.legend(loc='lower right')\n",
    "\n",
    "    plt.subplot(1, 2, 2)\n",
    "    plt.plot(history.history['loss'], label='loss')\n",
    "    plt.plot(history.history['val_loss'], label = 'Validation Loss')\n",
    "    plt.xlabel('Epoch')\n",
    "    plt.ylabel('Loss')\n",
    "    plt.legend(loc='lower right')"
   ]
  },
  {
   "cell_type": "markdown",
   "metadata": {},
   "source": [
    "---"
   ]
  },
  {
   "cell_type": "markdown",
   "metadata": {},
   "source": [
    "#### CNN Model"
   ]
  },
  {
   "cell_type": "code",
   "execution_count": 36,
   "metadata": {},
   "outputs": [],
   "source": [
    "@tf.keras.saving.register_keras_serializable()\n",
    "class MyCNNModel(tf.keras.Model):\n",
    "    def __init__(self):\n",
    "        super(MyCNNModel, self).__init__()\n",
    "\n",
    "        # Layers\n",
    "        self.conv1 = tf.keras.layers.Conv2D(filters=24, kernel_size=(3,3), activation=tf.nn.relu)\n",
    "        self.batchnorm1 = tf.keras.layers.BatchNormalization()\n",
    "        self.maxpool1 = tf.keras.layers.MaxPool2D(pool_size=(2,2))\n",
    "\n",
    "        self.conv2 = tf.keras.layers.Conv2D(filters=36, kernel_size=(3,3), activation=tf.nn.relu)\n",
    "        self.batchnorm2 = tf.keras.layers.BatchNormalization()\n",
    "        self.maxpool2 = tf.keras.layers.MaxPool2D(pool_size=(2,2))\n",
    "\n",
    "        self.conv3 = tf.keras.layers.Conv2D(filters=64, kernel_size=(3,3), activation=tf.nn.relu)\n",
    "        self.batchnorm3 = tf.keras.layers.BatchNormalization()\n",
    "        self.maxpool3 = tf.keras.layers.MaxPool2D(pool_size=(2,2))\n",
    "\n",
    "        self.flatten = tf.keras.layers.Flatten()\n",
    "        self.dense1 = tf.keras.layers.Dense(128, activation=tf.nn.relu)\n",
    "        self.dropout = tf.keras.layers.Dropout(0.25)\n",
    "        self.dense2 = tf.keras.layers.Dense(2, activation=tf.nn.softmax)\n",
    "\n",
    "    def call(self, inputs):\n",
    "        x = self.conv1(inputs)\n",
    "        x = self.batchnorm1(x)\n",
    "        x = self.maxpool1(x)\n",
    "\n",
    "        x = self.conv2(x)\n",
    "        x = self.batchnorm2(x)\n",
    "        x = self.maxpool2(x)\n",
    "\n",
    "        x = self.conv3(x)\n",
    "        x = self.batchnorm3(x)\n",
    "        x = self.maxpool3(x)\n",
    "\n",
    "        x = self.flatten(x)\n",
    "        x = self.dense1(x)\n",
    "        x = self.dropout(x)\n",
    "        x = self.dense2(x)\n",
    "\n",
    "        return x        \n",
    "   \n"
   ]
  },
  {
   "cell_type": "markdown",
   "metadata": {},
   "source": [
    "#### Functions for Early Stopping and Chechpoint Callback"
   ]
  },
  {
   "cell_type": "code",
   "execution_count": 9,
   "metadata": {},
   "outputs": [],
   "source": [
    "def chechpoint_callback(checkpoint_path):\n",
    "    checkpoint_path = \"training_1/my_checkpoints\"\n",
    "    os.makedirs(checkpoint_path, exist_ok=True) \n",
    "    checkpoint_cb = tf.keras.callbacks.ModelCheckpoint(filepath=os.path.join(checkpoint_path, \"weights.h5\"),\n",
    "    # Modelin sadece ağırlıklarını kaydedelim\n",
    "    save_weights_only=True)\n",
    "    return checkpoint_cb\n"
   ]
  },
  {
   "cell_type": "code",
   "execution_count": 23,
   "metadata": {},
   "outputs": [],
   "source": [
    "def set_early_stopping():\n",
    "    es = tf.keras.callbacks.EarlyStopping(monitor='val_loss', mode='min', verbose=1, patience=3)\n",
    "    return es"
   ]
  },
  {
   "cell_type": "markdown",
   "metadata": {},
   "source": [
    "#### Get Data"
   ]
  },
  {
   "cell_type": "code",
   "execution_count": 24,
   "metadata": {},
   "outputs": [
    {
     "name": "stdout",
     "output_type": "stream",
     "text": [
      "['Female', 'Male']\n",
      "['Female', 'Male']\n"
     ]
    }
   ],
   "source": [
    "train_data, train_labels = get_dataset_for_train_test(\"Face_Gender/Train/Train/\")\n",
    "test_data, test_labels = get_dataset_for_train_test(\"Face_Gender/Test/Test/\")\n",
    "\n",
    "train_dataset = tf.data.Dataset.from_tensor_slices((train_data, train_labels))\n",
    "test_dataset = tf.data.Dataset.from_tensor_slices((test_data, test_labels))\n",
    "\n",
    "\n",
    "# Shuffle\n",
    "BUFFER_SIZE = len(train_data)\n",
    "train_dataset = train_dataset.shuffle(BUFFER_SIZE)\n",
    "\n",
    "test_dataset = test_dataset.shuffle(BUFFER_SIZE)"
   ]
  },
  {
   "cell_type": "markdown",
   "metadata": {},
   "source": [
    "### Plot Labels"
   ]
  },
  {
   "cell_type": "code",
   "execution_count": 12,
   "metadata": {},
   "outputs": [
    {
     "name": "stderr",
     "output_type": "stream",
     "text": [
      "c:\\Users\\frknq\\ImageProcessing\\Code\\.conda\\lib\\site-packages\\seaborn\\_oldcore.py:1498: FutureWarning: is_categorical_dtype is deprecated and will be removed in a future version. Use isinstance(dtype, CategoricalDtype) instead\n",
      "  if pd.api.types.is_categorical_dtype(vector):\n",
      "c:\\Users\\frknq\\ImageProcessing\\Code\\.conda\\lib\\site-packages\\seaborn\\_oldcore.py:1498: FutureWarning: is_categorical_dtype is deprecated and will be removed in a future version. Use isinstance(dtype, CategoricalDtype) instead\n",
      "  if pd.api.types.is_categorical_dtype(vector):\n",
      "c:\\Users\\frknq\\ImageProcessing\\Code\\.conda\\lib\\site-packages\\seaborn\\_oldcore.py:1765: FutureWarning: unique with argument that is not not a Series, Index, ExtensionArray, or np.ndarray is deprecated and will raise in a future version.\n",
      "  order = pd.unique(vector)\n",
      "c:\\Users\\frknq\\ImageProcessing\\Code\\.conda\\lib\\site-packages\\seaborn\\_oldcore.py:1498: FutureWarning: is_categorical_dtype is deprecated and will be removed in a future version. Use isinstance(dtype, CategoricalDtype) instead\n",
      "  if pd.api.types.is_categorical_dtype(vector):\n",
      "c:\\Users\\frknq\\ImageProcessing\\Code\\.conda\\lib\\site-packages\\seaborn\\_oldcore.py:1498: FutureWarning: is_categorical_dtype is deprecated and will be removed in a future version. Use isinstance(dtype, CategoricalDtype) instead\n",
      "  if pd.api.types.is_categorical_dtype(vector):\n",
      "c:\\Users\\frknq\\ImageProcessing\\Code\\.conda\\lib\\site-packages\\seaborn\\_oldcore.py:1498: FutureWarning: is_categorical_dtype is deprecated and will be removed in a future version. Use isinstance(dtype, CategoricalDtype) instead\n",
      "  if pd.api.types.is_categorical_dtype(vector):\n",
      "c:\\Users\\frknq\\ImageProcessing\\Code\\.conda\\lib\\site-packages\\seaborn\\_oldcore.py:1765: FutureWarning: unique with argument that is not not a Series, Index, ExtensionArray, or np.ndarray is deprecated and will raise in a future version.\n",
      "  order = pd.unique(vector)\n",
      "c:\\Users\\frknq\\ImageProcessing\\Code\\.conda\\lib\\site-packages\\seaborn\\_oldcore.py:1498: FutureWarning: is_categorical_dtype is deprecated and will be removed in a future version. Use isinstance(dtype, CategoricalDtype) instead\n",
      "  if pd.api.types.is_categorical_dtype(vector):\n"
     ]
    },
    {
     "data": {
      "image/png": "[encoded data removed]",
      "text/plain": [
       "<Figure size 1000x400 with 2 Axes>"
      ]
     },
     "metadata": {},
     "output_type": "display_data"
    }
   ],
   "source": [
    "plot_labels(train_labels, test_labels)"
   ]
  },
  {
   "cell_type": "markdown",
   "metadata": {},
   "source": [
    "#### Set Chechpoint Callback and Early Stopping"
   ]
  },
  {
   "cell_type": "code",
   "execution_count": 26,
   "metadata": {},
   "outputs": [],
   "source": [
    "checkpoint_path = \"training/my_checkpoints\"\n",
    "checkpoint_cb = chechpoint_callback(checkpoint_path)\n",
    "\n",
    "es = set_early_stopping()"
   ]
  },
  {
   "cell_type": "markdown",
   "metadata": {},
   "source": [
    "#### Training the CNN Model"
   ]
  },
  {
   "cell_type": "code",
   "execution_count": 27,
   "metadata": {},
   "outputs": [
    {
     "name": "stdout",
     "output_type": "stream",
     "text": [
      "Epoch 1/10\n",
      "348/348 [==============================] - 79s 223ms/step - loss: 0.5194 - sparse_categorical_accuracy: 0.7663 - val_loss: 0.7580 - val_sparse_categorical_accuracy: 0.5747\n",
      "Epoch 2/10\n",
      "348/348 [==============================] - 78s 223ms/step - loss: 0.3164 - sparse_categorical_accuracy: 0.8612 - val_loss: 0.3035 - val_sparse_categorical_accuracy: 0.8733\n",
      "Epoch 3/10\n",
      "348/348 [==============================] - 77s 223ms/step - loss: 0.2357 - sparse_categorical_accuracy: 0.9012 - val_loss: 0.2730 - val_sparse_categorical_accuracy: 0.8882\n",
      "Epoch 4/10\n",
      "348/348 [==============================] - 81s 232ms/step - loss: 0.1927 - sparse_categorical_accuracy: 0.9254 - val_loss: 0.2706 - val_sparse_categorical_accuracy: 0.8898\n",
      "Epoch 5/10\n",
      "348/348 [==============================] - 81s 233ms/step - loss: 0.1546 - sparse_categorical_accuracy: 0.9391 - val_loss: 0.2985 - val_sparse_categorical_accuracy: 0.8890\n",
      "Epoch 6/10\n",
      "348/348 [==============================] - 80s 228ms/step - loss: 0.1270 - sparse_categorical_accuracy: 0.9499 - val_loss: 0.3290 - val_sparse_categorical_accuracy: 0.8921\n",
      "Epoch 7/10\n",
      "348/348 [==============================] - 80s 229ms/step - loss: 0.1000 - sparse_categorical_accuracy: 0.9630 - val_loss: 0.3197 - val_sparse_categorical_accuracy: 0.9023\n",
      "Epoch 7: early stopping\n"
     ]
    }
   ],
   "source": [
    "cnn_model = MyCNNModel()\n",
    "\n",
    "cnn_model.compile(optimizer=tf.keras.optimizers.Adam(learning_rate=1e-3),\n",
    "            loss=tf.keras.losses.SparseCategoricalCrossentropy(from_logits=True),\n",
    "            metrics=[tf.keras.metrics.SparseCategoricalAccuracy()])\n",
    "\n",
    "history = fit_model(cnn_model, train_data, train_labels , test_data, test_labels, es, checkpoint_cb)"
   ]
  },
  {
   "cell_type": "markdown",
   "metadata": {},
   "source": [
    "#### Visualize the Accuracy And Loss Plot for Each Epoch"
   ]
  },
  {
   "cell_type": "code",
   "execution_count": 28,
   "metadata": {},
   "outputs": [
    {
     "data": {
      "image/png": "[encoded data removed]",
      "text/plain": [
       "<Figure size 1000x400 with 2 Axes>"
      ]
     },
     "metadata": {},
     "output_type": "display_data"
    }
   ],
   "source": [
    "visualize_history(history)"
   ]
  },
  {
   "cell_type": "markdown",
   "metadata": {},
   "source": [
    "#### Testing with Evaluate"
   ]
  },
  {
   "cell_type": "code",
   "execution_count": 29,
   "metadata": {},
   "outputs": [
    {
     "name": "stdout",
     "output_type": "stream",
     "text": [
      "40/40 - 2s - loss: 0.3197 - sparse_categorical_accuracy: 0.9023 - 2s/epoch - 54ms/step\n",
      "Test Accuracy Score 0.9022673964500427:\n",
      " Test Loss 0.31966882944107056\n"
     ]
    }
   ],
   "source": [
    "_ , _ = model_evaluation(cnn_model, test_data, test_labels)"
   ]
  },
  {
   "cell_type": "code",
   "execution_count": 30,
   "metadata": {},
   "outputs": [
    {
     "name": "stdout",
     "output_type": "stream",
     "text": [
      "40/40 [==============================] - 2s 47ms/step\n",
      "Prediction Accuracy: 0.9022673964034402\n",
      "Prediction Time is: 2.1803579330444336 seconds\n"
     ]
    }
   ],
   "source": [
    "_ , _= make_prediction_with_time(cnn_model, test_data, test_labels)"
   ]
  },
  {
   "cell_type": "code",
   "execution_count": 31,
   "metadata": {},
   "outputs": [],
   "source": [
    "save_model(cnn_model)"
   ]
  },
  {
   "cell_type": "markdown",
   "metadata": {},
   "source": [
    "#### Create and Load Model"
   ]
  },
  {
   "cell_type": "code",
   "execution_count": null,
   "metadata": {},
   "outputs": [],
   "source": [
    "cnn_model = MyCNNModel()\n",
    "cnn_model = load_cnn_model()"
   ]
  },
  {
   "cell_type": "code",
   "execution_count": null,
   "metadata": {},
   "outputs": [],
   "source": [
    "img_path = None\n",
    "\n",
    "if img_path != None:\n",
    "    image = load_image(img_path)\n",
    "    make_single_prediction(cnn_model, image)\n",
    "    plt.imshow(image)\n",
    "    plt.show()"
   ]
  }
 ],
 "metadata": {
  "kernelspec": {
   "display_name": "Python 3",
   "language": "python",
   "name": "python3"
  },
  "language_info": {
   "codemirror_mode": {
    "name": "ipython",
    "version": 3
   },
   "file_extension": ".py",
   "mimetype": "text/x-python",
   "name": "python",
   "nbconvert_exporter": "python",
   "pygments_lexer": "ipython3",
   "version": "3.10.11"
  },
  "orig_nbformat": 4
 },
 "nbformat": 4,
 "nbformat_minor": 2
}
